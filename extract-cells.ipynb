{
 "cells": [
  {
   "cell_type": "code",
   "execution_count": 1,
   "metadata": {
    "collapsed": true
   },
   "outputs": [],
   "source": [
    "#imports\n",
    "import cv2 as cv\n",
    "import numpy as np\n",
    "\n",
    "img = cv.imread('./Assets/test1.png')\n",
    "\n",
    "img = cv.GaussianBlur(img,(5,5),0)\n",
    "gray = cv.cvtColor(img,cv.COLOR_BGR2GRAY)\n",
    "mask = np.zeros((gray.shape),np.uint8)\n",
    "kernel1 = cv.getStructuringElement(cv.MORPH_ELLIPSE,(11,11))\n",
    "\n",
    "close = cv.morphologyEx(gray,cv.MORPH_CLOSE,kernel1)\n",
    "div = np.float32(gray)/(close)\n",
    "res = np.uint8(cv.normalize(div,div,0,255,cv.NORM_MINMAX))\n",
    "res2 = cv.cvtColor(res,cv.COLOR_GRAY2BGR)"
   ]
  },
  {
   "cell_type": "code",
   "execution_count": 2,
   "metadata": {
    "collapsed": false
   },
   "outputs": [],
   "source": [
    "# masking\n",
    "\n",
    "thresh = cv.adaptiveThreshold(res, 255, 0, 1, 19, 2)\n",
    "contour, hier = cv.findContours(thresh, cv.RETR_TREE, cv.CHAIN_APPROX_SIMPLE)\n",
    "\n",
    "max_area = 0\n",
    "best_cnt = None\n",
    "for cnt in contour:\n",
    "    area = cv.contourArea(cnt)\n",
    "    if area > 1000:\n",
    "        if area > max_area:\n",
    "            max_area = area\n",
    "            best_cnt = cnt\n",
    "\n",
    "cv.drawContours(mask, [best_cnt], 0, 255, -1)\n",
    "cv.drawContours(mask, [best_cnt], 0, 0, 2)\n",
    "\n",
    "res = cv.bitwise_and(res, mask)\n",
    "# print(res)"
   ]
  },
  {
   "cell_type": "code",
   "execution_count": 3,
   "metadata": {
    "collapsed": false
   },
   "outputs": [
    {
     "data": {
      "text/plain": [
       "27"
      ]
     },
     "execution_count": 3,
     "metadata": {},
     "output_type": "execute_result"
    }
   ],
   "source": [
    "# vertical lines\n",
    "\n",
    "kernelx = cv.getStructuringElement(cv.MORPH_RECT,(2,10))\n",
    "dx = cv.Sobel(res,cv.CV_16S,1,0)\n",
    "dx = cv.convertScaleAbs(dx)\n",
    "cv.normalize(dx,dx,0,255,cv.NORM_MINMAX)\n",
    "ret,close = cv.threshold(dx,0,255,cv.THRESH_BINARY+cv.THRESH_OTSU)\n",
    "close = cv.morphologyEx(close,cv.MORPH_DILATE,kernelx,iterations = 1)\n",
    "\n",
    "contour, hier = cv.findContours(close,cv.RETR_EXTERNAL,cv.CHAIN_APPROX_SIMPLE)\n",
    "\n",
    "for cnt in contour:\n",
    "    x,y,w,h = cv.boundingRect(cnt)\n",
    "    if h/w > 5:\n",
    "        cv.drawContours(close,[cnt],0,255,-1)\n",
    "    else:\n",
    "        cv.drawContours(close,[cnt],0,0,-1)\n",
    "close = cv.morphologyEx(close,cv.MORPH_CLOSE,None,iterations = 2)\n",
    "\n",
    "\n",
    "closex = close.copy()\n",
    "contour, hier = cv.findContours(close,cv.RETR_EXTERNAL,cv.CHAIN_APPROX_SIMPLE)\n",
    "\n",
    "\n",
    "# cv.drawContours(closex, contour, -1, (255,0,10), 2)\n",
    "# cv.imshow(\"test\",closex)\n",
    "# cv.waitKey(0)\n",
    "\n",
    "\n",
    "\n",
    "# for index in contour:\n",
    "#     print(len(index))\n",
    "\n",
    "cv.imshow(\"vertical image\",close)\n",
    "cv.waitKey(0)"
   ]
  },
  {
   "cell_type": "code",
   "execution_count": 4,
   "metadata": {
    "collapsed": false
   },
   "outputs": [
    {
     "data": {
      "text/plain": [
       "27"
      ]
     },
     "execution_count": 4,
     "metadata": {},
     "output_type": "execute_result"
    }
   ],
   "source": [
    "# horizontal\n",
    "\n",
    "kernely = cv.getStructuringElement(cv.MORPH_RECT,(10,2))\n",
    "dy = cv.Sobel(res,cv.CV_16S,0,2)\n",
    "dy = cv.convertScaleAbs(dy)\n",
    "cv.normalize(dy,dy,0,255,cv.NORM_MINMAX)\n",
    "ret,close = cv.threshold(dy,0,255,cv.THRESH_BINARY+cv.THRESH_OTSU)\n",
    "close = cv.morphologyEx(close,cv.MORPH_DILATE,kernely)\n",
    "\n",
    "contour, hier = cv.findContours(close,cv.RETR_EXTERNAL,cv.CHAIN_APPROX_SIMPLE)\n",
    "for cnt in contour:\n",
    "    x,y,w,h = cv.boundingRect(cnt)\n",
    "    if w/h > 5:\n",
    "        cv.drawContours(close,[cnt],0,255,-1)\n",
    "    else:\n",
    "        cv.drawContours(close,[cnt],0,0,-1)\n",
    "\n",
    "close = cv.morphologyEx(close,cv.MORPH_DILATE,None,iterations = 2)\n",
    "closey = close.copy()\n",
    "\n",
    "\n",
    "cv.imshow(\"horizontal image\",close)\n",
    "cv.waitKey(0)"
   ]
  },
  {
   "cell_type": "code",
   "execution_count": 5,
   "metadata": {
    "collapsed": false
   },
   "outputs": [
    {
     "data": {
      "text/plain": [
       "27"
      ]
     },
     "execution_count": 5,
     "metadata": {},
     "output_type": "execute_result"
    },
    {
     "ename": "",
     "evalue": "",
     "output_type": "error",
     "traceback": [
      "\u001b[1;31mThe Kernel crashed while executing code in the the current cell or a previous cell. Please review the code in the cell(s) to identify a possible cause of the failure. Click <a href='https://aka.ms/vscodeJupyterKernelCrash'>here</a> for more info. View Jupyter <a href='command:jupyter.viewOutput'>log</a> for further details."
     ]
    }
   ],
   "source": [
    "# result\n",
    "res = cv.bitwise_and(closex,closey)\n",
    "cv.imshow(\"final\",res)\n",
    "cv.waitKey(0)"
   ]
  }
 ],
 "metadata": {
  "kernelspec": {
   "display_name": "Python 3.10.6 64-bit",
   "language": "python",
   "name": "python3"
  },
  "language_info": {
   "codemirror_mode": {
    "name": "ipython",
    "version": 3
   },
   "file_extension": ".py",
   "mimetype": "text/x-python",
   "name": "python",
   "nbconvert_exporter": "python",
   "pygments_lexer": "ipython3",
   "version": "3.10.6"
  },
  "vscode": {
   "interpreter": {
    "hash": "26de051ba29f2982a8de78e945f0abaf191376122a1563185a90213a26c5da77"
   }
  }
 },
 "nbformat": 4,
 "nbformat_minor": 0
}
